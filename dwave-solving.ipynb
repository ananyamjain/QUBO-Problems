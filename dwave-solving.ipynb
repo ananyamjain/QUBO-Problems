{
 "cells": [
  {
   "cell_type": "markdown",
   "metadata": {},
   "source": [
    "## Solving using Dwave"
   ]
  },
  {
   "cell_type": "code",
   "execution_count": 37,
   "metadata": {},
   "outputs": [],
   "source": [
    "import numpy as np\n",
    "from dwave.system import DWaveSampler, EmbeddingComposite\n",
    "import dimod"
   ]
  },
  {
   "cell_type": "code",
   "execution_count": 38,
   "metadata": {},
   "outputs": [],
   "source": [
    "items_values = [8, 47, 10, 5, 16]\n",
    "items_weight = [3, 11, 14, 19, 5]\n",
    "maximum_weight = 26"
   ]
  },
  {
   "cell_type": "code",
   "execution_count": 39,
   "metadata": {},
   "outputs": [],
   "source": [
    "n_items = len(items_values)\n",
    "Q = -np.diag(items_values)"
   ]
  },
  {
   "cell_type": "code",
   "execution_count": 46,
   "metadata": {},
   "outputs": [
    {
     "name": "stdout",
     "output_type": "stream",
     "text": [
      "5\n",
      "[[ -8   0   0   0   0]\n",
      " [  0 -47   0   0   0]\n",
      " [  0   0 -10   0   0]\n",
      " [  0   0   0  -5   0]\n",
      " [  0   0   0   0 -16]]\n",
      "[[ -8   0   0   0   0   0   0   0   0   0]\n",
      " [  0 -47   0   0   0   0   0   0   0   0]\n",
      " [  0   0 -10   0   0   0   0   0   0   0]\n",
      " [  0   0   0  -5   0   0   0   0   0   0]\n",
      " [  0   0   0   0 -16   0   0   0   0   0]\n",
      " [  0   0   0   0   0   0   0   0   0   0]\n",
      " [  0   0   0   0   0   0   0   0   0   0]\n",
      " [  0   0   0   0   0   0   0   0   0   0]\n",
      " [  0   0   0   0   0   0   0   0   0   0]\n",
      " [  0   0   0   0   0   0   0   0   0   0]]\n"
     ]
    }
   ],
   "source": [
    "lambd = 100 \n",
    "N = round(np.ceil(np.log2(maximum_weight + 1)))\n",
    "print(N)\n",
    "weights = items_weight + [2**k for k in range(N)]\n",
    "print(Q)\n",
    "QT = np.pad(Q, ((0, N), (0, N))) \n",
    "print(QT)\n",
    "\n",
    "for i in range(len(QT)):\n",
    "    QT[i, i] += lambd * weights[i] * (weights[i] - 2 * maximum_weight)\n",
    "    for j in range(i + 1, len(QT)):\n",
    "        QT[i, j] += 2 * lambd * weights[i] * weights[j]"
   ]
  },
  {
   "cell_type": "code",
   "execution_count": 49,
   "metadata": {},
   "outputs": [
    {
     "name": "stdout",
     "output_type": "stream",
     "text": [
      "67600\n",
      "Best solution found:\n",
      "Items: [0, 1, 4], Energy: -71.0\n"
     ]
    }
   ],
   "source": [
    "sampler = EmbeddingComposite(DWaveSampler())\n",
    "\n",
    "response = sampler.sample_qubo(QT, num_reads=500)\n",
    "offset = lambd * maximum_weight**2\n",
    "# print(offset)\n",
    "best_solution = None\n",
    "lowest_energy = float('inf')\n",
    "\n",
    "for datum in response.data():\n",
    "    sample = datum.sample\n",
    "    energy = datum.energy\n",
    "    if energy < lowest_energy:\n",
    "        lowest_energy = energy\n",
    "        best_solution = sample\n",
    "\n",
    "selected_items = [index for index in range(n_items) if best_solution[index] == 1]\n",
    "print(f\"Best solution found:\")\n",
    "print(f\"Items: {selected_items}, Energy: {lowest_energy + offset}\")\n"
   ]
  }
 ],
 "metadata": {
  "kernelspec": {
   "display_name": "Python 3",
   "language": "python",
   "name": "python3"
  },
  "language_info": {
   "codemirror_mode": {
    "name": "ipython",
    "version": 3
   },
   "file_extension": ".py",
   "mimetype": "text/x-python",
   "name": "python",
   "nbconvert_exporter": "python",
   "pygments_lexer": "ipython3",
   "version": "3.10.1"
  }
 },
 "nbformat": 4,
 "nbformat_minor": 2
}
