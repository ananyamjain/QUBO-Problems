{
 "cells": [
  {
   "cell_type": "markdown",
   "metadata": {},
   "source": [
    "## Implementing QUBO to solve the Knapsack Problem"
   ]
  },
  {
   "cell_type": "code",
   "execution_count": 45,
   "metadata": {},
   "outputs": [],
   "source": [
    "import numpy as np"
   ]
  },
  {
   "cell_type": "code",
   "execution_count": 46,
   "metadata": {},
   "outputs": [],
   "source": [
    "items_values = {\"⚽️\": 8, \"💻\": 47, \"📸\": 10, \"📚\": 5, \"🎸\": 16}\n",
    "values_list = [8, 47, 10, 5, 16]"
   ]
  },
  {
   "cell_type": "code",
   "execution_count": 47,
   "metadata": {},
   "outputs": [],
   "source": [
    "items_weight = {\"⚽️\": 3, \"💻\": 11, \"📸\": 14, \"📚\": 19, \"🎸\": 5}\n",
    "weights_list = [3, 11, 14, 19, 5]"
   ]
  },
  {
   "cell_type": "code",
   "execution_count": 48,
   "metadata": {},
   "outputs": [],
   "source": [
    "maximum_weight = 26"
   ]
  },
  {
   "cell_type": "code",
   "execution_count": 49,
   "metadata": {},
   "outputs": [],
   "source": [
    "def sum_weight(bitstring, items_weight):\n",
    "    weight = 0\n",
    "    for n, i in enumerate(items_weight):\n",
    "        if bitstring[n] == \"1\":\n",
    "            weight += i\n",
    "    return weight\n",
    "\n",
    "\n",
    "def sum_values(bitstring, items_value):\n",
    "    value = 0\n",
    "    for n, i in enumerate(items_value):\n",
    "        if bitstring[n] == \"1\":\n",
    "            value += i\n",
    "    return value"
   ]
  },
  {
   "cell_type": "code",
   "execution_count": 50,
   "metadata": {},
   "outputs": [
    {
     "name": "stdout",
     "output_type": "stream",
     "text": [
      "The best combination is ['⚽️', '💻', '🎸'] with a total value: 71 and total weight 19 \n"
     ]
    }
   ],
   "source": [
    "items = list(items_values.keys())\n",
    "n_items = len(items)\n",
    "combinations = {}\n",
    "max_value = 0\n",
    "for case_i in range(2**n_items):\n",
    "    combinations[case_i] = {}\n",
    "    bitstring = np.binary_repr(\n",
    "        case_i, n_items\n",
    "    )\n",
    "    combinations[case_i][\"items\"] = [items[n] for n, i in enumerate(bitstring) if i == \"1\"]\n",
    "    combinations[case_i][\"value\"] = sum_values(bitstring, values_list)\n",
    "    combinations[case_i][\"weight\"] = sum_values(bitstring, weights_list)\n",
    "    if (\n",
    "        combinations[case_i][\"value\"] > max_value\n",
    "        and combinations[case_i][\"weight\"] <= maximum_weight\n",
    "    ):\n",
    "        max_value = combinations[case_i][\"value\"]\n",
    "        optimal_solution = {\n",
    "            \"items\": combinations[case_i][\"items\"],\n",
    "            \"value\": combinations[case_i][\"value\"],\n",
    "            \"weight\": combinations[case_i][\"weight\"],\n",
    "        }\n",
    "\n",
    "print(\n",
    "    f\"The best combination is {optimal_solution['items']} with a total value: {optimal_solution['value']} and total weight {optimal_solution['weight']} \"\n",
    ")"
   ]
  },
  {
   "cell_type": "markdown",
   "metadata": {},
   "source": [
    "## QUBO\n",
    "minimize x<sup>T</sup>Qx\n",
    "\n",
    "* x -> vector of binary variables\n",
    "* Q -> matrix of linear/quadratic terms"
   ]
  },
  {
   "cell_type": "code",
   "execution_count": 51,
   "metadata": {},
   "outputs": [],
   "source": [
    "Q = -np.diag(list(items_values.values()))\n",
    "x_opt = np.array(\n",
    "    [[1 if i in optimal_solution[\"items\"] else 0] for i in items_values.keys()]\n",
    ")\n",
    "opt_str = \"\".join(str(i[0]) for i in x_opt)\n",
    "min_cost = (x_opt.T @ Q @ x_opt)[0, 0]"
   ]
  },
  {
   "cell_type": "code",
   "execution_count": 63,
   "metadata": {},
   "outputs": [
    {
     "name": "stdout",
     "output_type": "stream",
     "text": [
      "5\n",
      "[[-14708   6600   8400  11400   3000    600   1200   2400   4800   9600]\n",
      " [     0 -45147  30800  41800  11000   2200   4400   8800  17600  35200]\n",
      " [     0      0 -53210  53200  14000   2800   5600  11200  22400  44800]\n",
      " [     0      0      0 -62705  19000   3800   7600  15200  30400  60800]\n",
      " [     0      0      0      0 -23516   1000   2000   4000   8000  16000]\n",
      " [     0      0      0      0      0  -5100    400    800   1600   3200]\n",
      " [     0      0      0      0      0      0 -10000   1600   3200   6400]\n",
      " [     0      0      0      0      0      0      0 -19200   6400  12800]\n",
      " [     0      0      0      0      0      0      0      0 -35200  25600]\n",
      " [     0      0      0      0      0      0      0      0      0 -57600]]\n"
     ]
    }
   ],
   "source": [
    "N = round(np.ceil(np.log2(maximum_weight + 1)))\n",
    "print(N)\n",
    "weights = list(items_weight.values()) + [2**k for k in range(N)]\n",
    "# print(weights)\n",
    "QT = np.pad(Q, ((0, N), (0, N)))\n",
    "# print(QT)\n",
    "n_qubits = len(QT)\n",
    "lambd = 100\n",
    "for i in range(len(QT)):\n",
    "    QT[i, i] += lambd * weights[i] * (weights[i] - 2 * maximum_weight)\n",
    "    for j in range(i + 1, len(QT)):\n",
    "        QT[i, j] += 2 * lambd * weights[i] * weights[j]\n",
    "\n",
    "print(QT)"
   ]
  },
  {
   "cell_type": "code",
   "execution_count": 64,
   "metadata": {},
   "outputs": [
    {
     "name": "stdout",
     "output_type": "stream",
     "text": [
      "67600\n"
     ]
    }
   ],
   "source": [
    "offset = lambd * maximum_weight**2\n",
    "print(offset)"
   ]
  },
  {
   "cell_type": "code",
   "execution_count": 65,
   "metadata": {},
   "outputs": [
    {
     "name": "stdout",
     "output_type": "stream",
     "text": [
      "11100\n",
      "Cost:-71\n"
     ]
    }
   ],
   "source": [
    "optimal = np.binary_repr(maximum_weight - optimal_solution[\"weight\"], N)[::-1]\n",
    "print(optimal)\n",
    "x_opt_slack = np.concatenate(\n",
    "    (x_opt, np.array([[int(i)] for i in optimal]))\n",
    ")  \n",
    "opt_str_slack = \"\".join(str(i[0]) for i in x_opt_slack)\n",
    "cost = (x_opt_slack.T @ QT @ x_opt_slack)[0, 0] + offset  \n",
    "print(f\"Cost:{cost}\")"
   ]
  }
 ],
 "metadata": {
  "kernelspec": {
   "display_name": "Python 3",
   "language": "python",
   "name": "python3"
  },
  "language_info": {
   "codemirror_mode": {
    "name": "ipython",
    "version": 3
   },
   "file_extension": ".py",
   "mimetype": "text/x-python",
   "name": "python",
   "nbconvert_exporter": "python",
   "pygments_lexer": "ipython3",
   "version": "3.10.1"
  }
 },
 "nbformat": 4,
 "nbformat_minor": 2
}
