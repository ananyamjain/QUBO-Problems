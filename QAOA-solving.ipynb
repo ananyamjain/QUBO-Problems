{
 "cells": [
  {
   "cell_type": "markdown",
   "metadata": {},
   "source": [
    "## Solving using BQM"
   ]
  },
  {
   "cell_type": "code",
   "execution_count": 16,
   "metadata": {},
   "outputs": [],
   "source": [
    "from dwave.system import DWaveSampler, EmbeddingComposite\n",
    "from dwave.cloud import Client\n",
    "import dimod\n",
    "import pandas as pd\n",
    "from collections import defaultdict\n",
    "import matplotlib.pyplot as plt"
   ]
  },
  {
   "cell_type": "code",
   "execution_count": 17,
   "metadata": {},
   "outputs": [
    {
     "name": "stdout",
     "output_type": "stream",
     "text": [
      "The best combination is ['⚽️', '💻', '🎸'] with a total value: 71 and total weight 19 \n",
      "5\n",
      "[[-14708   6600   8400  11400   3000    600   1200   2400   4800   9600]\n",
      " [     0 -45147  30800  41800  11000   2200   4400   8800  17600  35200]\n",
      " [     0      0 -53210  53200  14000   2800   5600  11200  22400  44800]\n",
      " [     0      0      0 -62705  19000   3800   7600  15200  30400  60800]\n",
      " [     0      0      0      0 -23516   1000   2000   4000   8000  16000]\n",
      " [     0      0      0      0      0  -5100    400    800   1600   3200]\n",
      " [     0      0      0      0      0      0 -10000   1600   3200   6400]\n",
      " [     0      0      0      0      0      0      0 -19200   6400  12800]\n",
      " [     0      0      0      0      0      0      0      0 -35200  25600]\n",
      " [     0      0      0      0      0      0      0      0      0 -57600]]\n",
      "Cost:-71\n"
     ]
    }
   ],
   "source": [
    "%run knapsack_problem.ipynb"
   ]
  },
  {
   "cell_type": "code",
   "execution_count": 18,
   "metadata": {},
   "outputs": [
    {
     "data": {
      "text/plain": [
       "BinaryQuadraticModel({'x_0': -10.5737, 'x_1': -53.1721, 'x_2': -16.297199999999997, 'x_3': -10.0217, 'x_4': -19.9185}, {('x_1', 'x_0'): 2.4486000000000003, ('x_2', 'x_0'): 3.1164000000000005, ('x_2', 'x_1'): 11.4268, ('x_3', 'x_0'): 4.2294, ('x_3', 'x_1'): 15.507800000000001, ('x_3', 'x_2'): 19.737199999999998, ('x_4', 'x_0'): 1.113, ('x_4', 'x_1'): 4.081, ('x_4', 'x_2'): 5.194, ('x_4', 'x_3'): 7.0489999999999995}, -0.9204000000000008, 'BINARY')"
      ]
     },
     "execution_count": 18,
     "metadata": {},
     "output_type": "execute_result"
    }
   ],
   "source": [
    "bqm = {}\n",
    "lagrange_multiplier = [0.96, 0.0371] \n",
    "bqm[\"unbalanced\"] = dimod.BQM.from_qubo(Q) \n",
    "bqm[\"unbalanced\"].add_linear_inequality_constraint(\n",
    "    [(n, i) for n, i in enumerate(weights_list)], \n",
    "    lagrange_multiplier,\n",
    "    \"unbalanced\",\n",
    "    ub=maximum_weight,\n",
    "    penalization_method=\"unbalanced\",\n",
    ")\n",
    "bqm[\"unbalanced\"].relabel_variables({i: f\"x_{i}\" for i in range(bqm[\"unbalanced\"].num_variables)})"
   ]
  },
  {
   "cell_type": "code",
   "execution_count": 19,
   "metadata": {},
   "outputs": [],
   "source": [
    "account = True\n",
    "df = {}\n",
    "if account:\n",
    "    sampler = DWaveSampler(region=\"eu-central-1\")\n",
    "    sampler_qpu = EmbeddingComposite(sampler)\n",
    "    for method in [ \"unbalanced\"]:\n",
    "        samples = sampler_qpu.sample(bqm[method], num_reads=5000) \n",
    "        df[method] = (\n",
    "            samples.to_pandas_dataframe().sort_values(\"energy\").reset_index(drop=True)\n",
    "        )  \n",
    "        df[method].to_json(f\"QUBO/dwave_results_{method}.json\")  \n",
    "\n",
    "samples_dwave = {}\n",
    "values = {}\n",
    "for method in [ \"unbalanced\"]:\n",
    "    samples_dwave[method] = defaultdict(int)\n",
    "    for i, row in df[method].iterrows():\n",
    "        sample_i = \"\".join(str(round(row[q])) for q in bqm[method].variables)\n",
    "        samples_dwave[method][sample_i] += row[\"num_occurrences\"]\n",
    "    values[method] = {\n",
    "        sum_values(sample_i, values_list): count\n",
    "        for sample_i, count in samples_dwave[method].items()\n",
    "        if sum_weight(sample_i, weights_list) <= maximum_weight\n",
    "    }"
   ]
  },
  {
   "cell_type": "code",
   "execution_count": 22,
   "metadata": {},
   "outputs": [
    {
     "name": "stderr",
     "output_type": "stream",
     "text": [
      "/var/folders/zd/f5km1wt13_v_1bt9r0xhjj5c0000gn/T/ipykernel_68683/2464789908.py:17: UserWarning: FigureCanvasAgg is non-interactive, and thus cannot be shown\n",
      "  fig.show()\n"
     ]
    },
    {
     "data": {
      "image/png": "[encoded data removed]",
      "text/plain": [
       "<Figure size 640x480 with 1 Axes>"
      ]
     },
     "metadata": {},
     "output_type": "display_data"
    }
   ],
   "source": [
    "fig, ax = plt.subplots()\n",
    "bins = {\"unbalanced\": 5}\n",
    "for method in [\"unbalanced\"]:\n",
    "    ax.hist(\n",
    "        values[method].keys(),\n",
    "        weights=values[method].values(),\n",
    "        bins=bins[method],\n",
    "        edgecolor=\"black\",\n",
    "        label=method,\n",
    "        align=\"right\",\n",
    "    )\n",
    "# ax.vlines(-min_cost, 0, 5000, linestyle=\"--\", color=\"black\", label=\"Optimal\", linewidth=2)\n",
    "ax.set_yscale(\"log\")\n",
    "ax.legend()\n",
    "ax.set_ylabel(\"counts\")\n",
    "ax.set_xlabel(\"value\")\n",
    "fig.show()"
   ]
  },
  {
   "cell_type": "code",
   "execution_count": null,
   "metadata": {},
   "outputs": [],
   "source": []
  }
 ],
 "metadata": {
  "kernelspec": {
   "display_name": "Python 3",
   "language": "python",
   "name": "python3"
  },
  "language_info": {
   "codemirror_mode": {
    "name": "ipython",
    "version": 3
   },
   "file_extension": ".py",
   "mimetype": "text/x-python",
   "name": "python",
   "nbconvert_exporter": "python",
   "pygments_lexer": "ipython3",
   "version": "3.10.1"
  }
 },
 "nbformat": 4,
 "nbformat_minor": 2
}
